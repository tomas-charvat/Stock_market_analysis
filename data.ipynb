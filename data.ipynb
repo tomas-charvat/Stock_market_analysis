{
 "cells": [
  {
   "cell_type": "code",
   "id": "initial_id",
   "metadata": {
    "collapsed": true,
    "ExecuteTime": {
     "end_time": "2024-09-12T14:22:43.923925Z",
     "start_time": "2024-09-12T14:22:43.920834Z"
    }
   },
   "source": "print('hello world')\n",
   "outputs": [
    {
     "name": "stdout",
     "output_type": "stream",
     "text": [
      "hello world\n"
     ]
    }
   ],
   "execution_count": 1
  },
  {
   "metadata": {
    "ExecuteTime": {
     "end_time": "2024-09-12T15:26:29.455865Z",
     "start_time": "2024-09-12T15:26:29.404941Z"
    }
   },
   "cell_type": "code",
   "source": [
    "import numpy as np\n",
    "import pandas as pd\n",
    "\n",
    "gold=pd.read_csv('xauusd_y.csv')\n",
    "silver=pd.read_csv('xagusd_y.csv')\n",
    "inflation=pd.read_csv('adjusted-inflation-data-csv.txt')\n",
    "\n",
    "\n",
    "\n",
    "\n",
    "    "
   ],
   "id": "c313a214ad76502",
   "outputs": [
    {
     "name": "stdout",
     "output_type": "stream",
     "text": [
      "         Date    Open   High    Low  Close\n",
      "0  1990-12-31  406.00  430.3  348.2  396.2\n",
      "1  1991-12-31  397.00  406.9  346.0  355.2\n",
      "2  1992-12-31  355.70  363.9  328.9  333.1\n",
      "3  1993-12-31  333.50  414.0  325.8  390.5\n",
      "4  1994-12-31  390.55  398.1  368.2  382.6\n",
      "          Date     Open     High       Low     Close\n",
      "29  2019-12-31  1282.60  1557.10  1266.480  1517.305\n",
      "30  2020-12-31  1518.17  2075.11  1451.280  1898.705\n",
      "31  2021-12-31  1903.49  1959.11  1671.900  1829.500\n",
      "32  2022-12-31  1830.05  2069.94  1614.905  1823.480\n",
      "33  2023-12-31  1828.86  2144.83  1805.100  2063.235\n",
      "         Date  Open  High   Low  Close\n",
      "0  1990-12-31  5.28  5.45  3.98   4.25\n",
      "1  1991-12-31  4.25  4.64  3.50   3.91\n",
      "2  1992-12-31  3.92  4.41  3.63   3.69\n",
      "3  1993-12-31  3.69  5.47  3.51   5.10\n",
      "4  1994-12-31  5.10  5.85  4.52   4.88\n",
      "          Date     Open     High      Low    Close\n",
      "29  2019-12-31  15.4885  19.6500  14.3000  17.8530\n",
      "30  2020-12-31  17.8535  29.8600  11.5895  26.3890\n",
      "31  2021-12-31  26.6400  30.0300  21.4225  23.2665\n",
      "32  2022-12-31  23.3420  26.9295  17.5665  23.9350\n",
      "33  2023-12-31  24.1050  26.1370  19.9050  23.7955\n",
      "         DATE  FPCPITOTLZGUSA\n",
      "0  1990-01-01        5.397956\n",
      "1  1991-01-01        4.234964\n",
      "2  1992-01-01        3.028820\n",
      "3  1993-01-01        2.951657\n",
      "4  1994-01-01        2.607442\n",
      "          DATE  FPCPITOTLZGUSA\n",
      "29  2019-01-01        1.812210\n",
      "30  2020-01-01        1.233584\n",
      "31  2021-01-01        4.697859\n",
      "32  2022-01-01        8.002800\n",
      "33  2023-01-01        4.116338\n"
     ]
    }
   ],
   "execution_count": 11
  },
  {
   "metadata": {
    "ExecuteTime": {
     "end_time": "2024-09-12T15:43:48.296494Z",
     "start_time": "2024-09-12T15:43:48.282934Z"
    }
   },
   "cell_type": "code",
   "source": "print(inflation.head())",
   "id": "b77ef6592e624334",
   "outputs": [
    {
     "name": "stdout",
     "output_type": "stream",
     "text": [
      "         DATE  FPCPITOTLZGUSA\n",
      "0  1990-01-01        5.397956\n",
      "1  1991-01-01        4.234964\n",
      "2  1992-01-01        3.028820\n",
      "3  1993-01-01        2.951657\n",
      "4  1994-01-01        2.607442\n"
     ]
    }
   ],
   "execution_count": 12
  },
  {
   "metadata": {
    "ExecuteTime": {
     "end_time": "2024-09-12T15:45:11.937577Z",
     "start_time": "2024-09-12T15:45:11.919743Z"
    }
   },
   "cell_type": "code",
   "source": "inflation=inflation.rename(columns={'DATE':'Date','FPCPITOTLZGUSA':'Inflation'})",
   "id": "3eb6ce85286bf812",
   "outputs": [],
   "execution_count": 13
  },
  {
   "metadata": {
    "ExecuteTime": {
     "end_time": "2024-09-12T15:52:43.882392Z",
     "start_time": "2024-09-12T15:52:43.874381Z"
    }
   },
   "cell_type": "code",
   "source": [
    "\n",
    "inflation_df = pd.concat({'Date': gold['Date'],\n",
    "                          'Gold': gold['Close'], \n",
    "                          'Silver': silver['Close'], \n",
    "                          'Inflation': inflation['Inflation']}, \n",
    "                         axis=1, \n",
    "                         join='inner')\n",
    "\n",
    "\n",
    "inflation_df.set_index('Date', inplace=True)\n",
    "print(inflation_df.head())"
   ],
   "id": "b099d11be529816c",
   "outputs": [
    {
     "name": "stdout",
     "output_type": "stream",
     "text": [
      "             Gold  Silver  Inflation\n",
      "Date                                \n",
      "1990-12-31  396.2    4.25   5.397956\n",
      "1991-12-31  355.2    3.91   4.234964\n",
      "1992-12-31  333.1    3.69   3.028820\n",
      "1993-12-31  390.5    5.10   2.951657\n",
      "1994-12-31  382.6    4.88   2.607442\n"
     ]
    }
   ],
   "execution_count": 15
  },
  {
   "metadata": {
    "ExecuteTime": {
     "end_time": "2024-09-12T15:56:31.848145Z",
     "start_time": "2024-09-12T15:56:31.830197Z"
    }
   },
   "cell_type": "code",
   "source": "print(inflation_df.info())",
   "id": "a65904c821de23eb",
   "outputs": [
    {
     "name": "stdout",
     "output_type": "stream",
     "text": [
      "<class 'pandas.core.frame.DataFrame'>\n",
      "Index: 34 entries, 1990-12-31 to 2023-12-31\n",
      "Data columns (total 3 columns):\n",
      " #   Column     Non-Null Count  Dtype  \n",
      "---  ------     --------------  -----  \n",
      " 0   Gold       34 non-null     float64\n",
      " 1   Silver     34 non-null     float64\n",
      " 2   Inflation  34 non-null     float64\n",
      "dtypes: float64(3)\n",
      "memory usage: 1.1+ KB\n",
      "None\n"
     ]
    }
   ],
   "execution_count": 16
  },
  {
   "metadata": {
    "ExecuteTime": {
     "end_time": "2024-09-12T16:00:04.562207Z",
     "start_time": "2024-09-12T16:00:04.541421Z"
    }
   },
   "cell_type": "code",
   "source": "inflation_df.to_csv('inflation_vs_metals.csv')",
   "id": "f521428a559d13ea",
   "outputs": [],
   "execution_count": 17
  },
  {
   "metadata": {
    "ExecuteTime": {
     "end_time": "2024-09-12T17:52:32.935917Z",
     "start_time": "2024-09-12T17:52:32.906843Z"
    }
   },
   "cell_type": "code",
   "source": [
    "dollar_index=pd.read_csv('real_dollar_index.csv')\n",
    "print(dollar_index.head())\n",
    "print(dollar_index.tail())"
   ],
   "id": "14c564f700446b6a",
   "outputs": [
    {
     "name": "stdout",
     "output_type": "stream",
     "text": [
      "         DATE  RTWEXBGS\n",
      "0  2006-01-01  100.0000\n",
      "1  2006-02-01  100.2388\n",
      "2  2006-03-01  100.5281\n",
      "3  2006-04-01  100.0305\n",
      "4  2006-05-01   97.8471\n",
      "           DATE  RTWEXBGS\n",
      "200  2022-09-01  119.5125\n",
      "201  2022-10-01  121.0698\n",
      "202  2022-11-01  118.5553\n",
      "203  2022-12-01  116.0265\n",
      "204  2023-01-01  113.9178\n"
     ]
    }
   ],
   "execution_count": 19
  },
  {
   "metadata": {
    "ExecuteTime": {
     "end_time": "2024-09-12T18:17:57.791270Z",
     "start_time": "2024-09-12T18:17:57.783621Z"
    }
   },
   "cell_type": "code",
   "source": [
    "dollar_index=dollar_index.rename(columns={'DATE':'Date','RTWEXBGS':'Index'})\n",
    "print(dollar_index.head())"
   ],
   "id": "171f6df12d34ab5b",
   "outputs": [
    {
     "name": "stdout",
     "output_type": "stream",
     "text": [
      "         Date     Index\n",
      "0  2006-01-01  100.0000\n",
      "1  2006-02-01  100.2388\n",
      "2  2006-03-01  100.5281\n",
      "3  2006-04-01  100.0305\n",
      "4  2006-05-01   97.8471\n"
     ]
    }
   ],
   "execution_count": 21
  },
  {
   "metadata": {
    "ExecuteTime": {
     "end_time": "2024-09-12T19:03:14.316279Z",
     "start_time": "2024-09-12T19:03:14.299899Z"
    }
   },
   "cell_type": "code",
   "source": [
    "gold_close=pd.read_csv('gold_monthly_close_csv.txt')\n",
    "silver_close=pd.read_csv('silver_monthly_close_csv.txt')\n",
    "print(gold_close.head(),silver_close.head())"
   ],
   "id": "2de1cfef50ffc5b8",
   "outputs": [
    {
     "name": "stdout",
     "output_type": "stream",
     "text": [
      "         DATE   Close\n",
      "0  2006-01-01  570.10\n",
      "1  2006-02-01  561.30\n",
      "2  2006-03-01  580.90\n",
      "3  2006-04-01  649.95\n",
      "4  2006-05-01  644.00          DATE  Close\n",
      "0  2006-01-01   9.84\n",
      "1  2006-02-01   9.73\n",
      "2  2006-03-01  11.45\n",
      "3  2006-04-01  13.56\n",
      "4  2006-05-01  12.50\n"
     ]
    }
   ],
   "execution_count": 33
  },
  {
   "metadata": {
    "ExecuteTime": {
     "end_time": "2024-09-12T19:03:32.510919Z",
     "start_time": "2024-09-12T19:03:32.490190Z"
    }
   },
   "cell_type": "code",
   "source": [
    "final_dollar_vs_metals=pd.concat({'Date': gold_close['DATE'],\n",
    "                                  'Gold_close': gold_close['Close'],\n",
    "                                  'Silver_close': silver_close['Close'],\n",
    "                                  \"Index\": dollar_index['Index']}, axis=1, join='inner')\n",
    "\n",
    "print(final_dollar_vs_metals.head())\n",
    "print(final_dollar_vs_metals.info())"
   ],
   "id": "da0893418037a964",
   "outputs": [
    {
     "name": "stdout",
     "output_type": "stream",
     "text": [
      "         Date  Gold_close  Silver_close     Index\n",
      "0  2006-01-01      570.10          9.84  100.0000\n",
      "1  2006-02-01      561.30          9.73  100.2388\n",
      "2  2006-03-01      580.90         11.45  100.5281\n",
      "3  2006-04-01      649.95         13.56  100.0305\n",
      "4  2006-05-01      644.00         12.50   97.8471\n",
      "<class 'pandas.core.frame.DataFrame'>\n",
      "RangeIndex: 205 entries, 0 to 204\n",
      "Data columns (total 4 columns):\n",
      " #   Column        Non-Null Count  Dtype  \n",
      "---  ------        --------------  -----  \n",
      " 0   Date          205 non-null    object \n",
      " 1   Gold_close    205 non-null    float64\n",
      " 2   Silver_close  205 non-null    float64\n",
      " 3   Index         205 non-null    float64\n",
      "dtypes: float64(3), object(1)\n",
      "memory usage: 6.5+ KB\n",
      "None\n"
     ]
    }
   ],
   "execution_count": 34
  },
  {
   "metadata": {
    "ExecuteTime": {
     "end_time": "2024-09-12T19:03:42.916575Z",
     "start_time": "2024-09-12T19:03:42.911216Z"
    }
   },
   "cell_type": "code",
   "source": "final_dollar_vs_metals.set_index('Date', inplace=True)",
   "id": "a4c5037721414b80",
   "outputs": [],
   "execution_count": 35
  },
  {
   "metadata": {
    "ExecuteTime": {
     "end_time": "2024-09-12T19:03:46.179363Z",
     "start_time": "2024-09-12T19:03:46.173590Z"
    }
   },
   "cell_type": "code",
   "source": "print(final_dollar_vs_metals.info())",
   "id": "2163a0c62f75853a",
   "outputs": [
    {
     "name": "stdout",
     "output_type": "stream",
     "text": [
      "<class 'pandas.core.frame.DataFrame'>\n",
      "Index: 205 entries, 2006-01-01 to 2023-01-01\n",
      "Data columns (total 3 columns):\n",
      " #   Column        Non-Null Count  Dtype  \n",
      "---  ------        --------------  -----  \n",
      " 0   Gold_close    205 non-null    float64\n",
      " 1   Silver_close  205 non-null    float64\n",
      " 2   Index         205 non-null    float64\n",
      "dtypes: float64(3)\n",
      "memory usage: 6.4+ KB\n",
      "None\n"
     ]
    }
   ],
   "execution_count": 36
  },
  {
   "metadata": {
    "ExecuteTime": {
     "end_time": "2024-09-12T18:59:23.091142Z",
     "start_time": "2024-09-12T18:59:23.065626Z"
    }
   },
   "cell_type": "code",
   "source": [
    "for column in (gold_close, silver_close,dollar_index):\n",
    "    print(column.isnull().sum())"
   ],
   "id": "a48c223634db0ca9",
   "outputs": [
    {
     "name": "stdout",
     "output_type": "stream",
     "text": [
      "DATE     0\n",
      "Close    0\n",
      "dtype: int64\n",
      "DATE     0\n",
      "Close    0\n",
      "dtype: int64\n",
      "Date     0\n",
      "Index    0\n",
      "dtype: int64\n"
     ]
    }
   ],
   "execution_count": 31
  },
  {
   "metadata": {
    "ExecuteTime": {
     "end_time": "2024-09-12T19:09:36.440073Z",
     "start_time": "2024-09-12T19:09:36.426881Z"
    }
   },
   "cell_type": "code",
   "source": "final_dollar_vs_metals.to_csv('final_dollar_vs_metals.csv')",
   "id": "9cc2dbdefa3300ff",
   "outputs": [],
   "execution_count": 37
  },
  {
   "metadata": {},
   "cell_type": "code",
   "outputs": [],
   "execution_count": null,
   "source": "",
   "id": "425a6b4abcf4949a"
  }
 ],
 "metadata": {
  "kernelspec": {
   "display_name": "Python 3",
   "language": "python",
   "name": "python3"
  },
  "language_info": {
   "codemirror_mode": {
    "name": "ipython",
    "version": 2
   },
   "file_extension": ".py",
   "mimetype": "text/x-python",
   "name": "python",
   "nbconvert_exporter": "python",
   "pygments_lexer": "ipython2",
   "version": "2.7.6"
  }
 },
 "nbformat": 4,
 "nbformat_minor": 5
}
