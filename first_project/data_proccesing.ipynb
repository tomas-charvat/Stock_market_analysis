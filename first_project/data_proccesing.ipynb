{
 "cells": [
  {
   "cell_type": "code",
   "id": "initial_id",
   "metadata": {
    "collapsed": true,
    "ExecuteTime": {
     "end_time": "2024-09-12T11:48:12.978911Z",
     "start_time": "2024-09-12T11:48:12.974577Z"
    }
   },
   "source": [
    "print(\"hello world\")\n",
    "from datetime import datetime, timedelta"
   ],
   "outputs": [
    {
     "name": "stdout",
     "output_type": "stream",
     "text": [
      "hello world\n"
     ]
    }
   ],
   "execution_count": 20
  },
  {
   "metadata": {
    "ExecuteTime": {
     "end_time": "2024-09-12T11:53:13.962498Z",
     "start_time": "2024-09-12T11:53:13.896181Z"
    }
   },
   "cell_type": "code",
   "source": [
    "import pandas as pd\n",
    "import numpy as np\n",
    "xauusd = pd.read_csv(\"xauusd_d.csv\",parse_dates=[\"Date\"],index_col=\"Date\")\n",
    "xagusd = pd.read_csv(\"xagusd_d.csv\",parse_dates=[\"Date\"],index_col=\"Date\")\n",
    "ndq = pd.read_csv(\"ndq_d.csv\",parse_dates=[\"Date\"],index_col=\"Date\")\n",
    "spx = pd.read_csv(\"spx_d.csv\",parse_dates=[\"Date\"],index_col=\"Date\")\n",
    "\n",
    "\n"
   ],
   "id": "7c012e563c65ca8f",
   "outputs": [],
   "execution_count": 26
  },
  {
   "metadata": {
    "ExecuteTime": {
     "end_time": "2024-09-12T11:53:14.448903Z",
     "start_time": "2024-09-12T11:53:14.429291Z"
    }
   },
   "cell_type": "code",
   "source": [
    "print(xauusd.info())\n",
    "print(xagusd.info())\n",
    "print(ndq.info())\n",
    "print(spx.info())"
   ],
   "id": "7559f432085950a1",
   "outputs": [
    {
     "name": "stdout",
     "output_type": "stream",
     "text": [
      "<class 'pandas.core.frame.DataFrame'>\n",
      "DatetimeIndex: 8914 entries, 1990-01-02 to 2024-09-10\n",
      "Data columns (total 4 columns):\n",
      " #   Column  Non-Null Count  Dtype  \n",
      "---  ------  --------------  -----  \n",
      " 0   Open    8914 non-null   float64\n",
      " 1   High    8914 non-null   float64\n",
      " 2   Low     8914 non-null   float64\n",
      " 3   Close   8914 non-null   float64\n",
      "dtypes: float64(4)\n",
      "memory usage: 348.2 KB\n",
      "None\n",
      "<class 'pandas.core.frame.DataFrame'>\n",
      "DatetimeIndex: 8858 entries, 1990-01-02 to 2024-09-10\n",
      "Data columns (total 4 columns):\n",
      " #   Column  Non-Null Count  Dtype  \n",
      "---  ------  --------------  -----  \n",
      " 0   Open    8858 non-null   float64\n",
      " 1   High    8858 non-null   float64\n",
      " 2   Low     8858 non-null   float64\n",
      " 3   Close   8858 non-null   float64\n",
      "dtypes: float64(4)\n",
      "memory usage: 346.0 KB\n",
      "None\n",
      "<class 'pandas.core.frame.DataFrame'>\n",
      "DatetimeIndex: 8741 entries, 1990-01-02 to 2024-09-10\n",
      "Data columns (total 5 columns):\n",
      " #   Column  Non-Null Count  Dtype  \n",
      "---  ------  --------------  -----  \n",
      " 0   Open    8741 non-null   float64\n",
      " 1   High    8741 non-null   float64\n",
      " 2   Low     8741 non-null   float64\n",
      " 3   Close   8741 non-null   float64\n",
      " 4   Volume  8741 non-null   float64\n",
      "dtypes: float64(5)\n",
      "memory usage: 409.7 KB\n",
      "None\n",
      "<class 'pandas.core.frame.DataFrame'>\n",
      "DatetimeIndex: 8739 entries, 1990-01-02 to 2024-09-10\n",
      "Data columns (total 5 columns):\n",
      " #   Column  Non-Null Count  Dtype  \n",
      "---  ------  --------------  -----  \n",
      " 0   Open    8739 non-null   float64\n",
      " 1   High    8739 non-null   float64\n",
      " 2   Low     8739 non-null   float64\n",
      " 3   Close   8739 non-null   float64\n",
      " 4   Volume  8739 non-null   float64\n",
      "dtypes: float64(5)\n",
      "memory usage: 409.6 KB\n",
      "None\n"
     ]
    }
   ],
   "execution_count": 27
  },
  {
   "metadata": {
    "ExecuteTime": {
     "end_time": "2024-09-12T11:53:15.009790Z",
     "start_time": "2024-09-12T11:53:14.992619Z"
    }
   },
   "cell_type": "code",
   "source": [
    "for df in(xauusd,xagusd,ndq,spx):\n",
    "    print(df.head())"
   ],
   "id": "f64c0ecb7217a895",
   "outputs": [
    {
     "name": "stdout",
     "output_type": "stream",
     "text": [
      "              Open    High     Low  Close\n",
      "Date                                     \n",
      "1990-01-02  406.00  406.00  400.20  402.1\n",
      "1990-01-03  403.00  403.00  394.50  396.4\n",
      "1990-01-04  397.25  401.10  397.10  400.8\n",
      "1990-01-05  401.15  409.50  401.15  408.5\n",
      "1990-01-08  409.25  409.25  404.70  405.0\n",
      "            Open  High   Low  Close\n",
      "Date                               \n",
      "1990-01-02  5.28  5.35  5.22   5.25\n",
      "1990-01-03  5.26  5.26  5.18   5.22\n",
      "1990-01-04  5.22  5.35  5.22   5.33\n",
      "1990-01-05  5.34  5.40  5.28   5.38\n",
      "1990-01-08  5.39  5.39  5.31   5.31\n",
      "             Open   High    Low  Close       Volume\n",
      "Date                                               \n",
      "1990-01-02  452.9  459.3  452.7  459.3  102969600.0\n",
      "1990-01-03  461.1  461.6  460.0  460.9  141973800.0\n",
      "1990-01-04  460.4  460.8  456.9  459.4  137593500.0\n",
      "1990-01-05  457.9  459.4  457.8  458.2  127623900.0\n",
      "1990-01-08  457.1  458.7  456.5  458.7  107415000.0\n",
      "              Open    High     Low   Close       Volume\n",
      "Date                                                   \n",
      "1990-01-02  353.40  359.69  351.98  359.69   90038889.0\n",
      "1990-01-03  359.69  360.59  357.89  358.76  106850000.0\n",
      "1990-01-04  358.76  358.76  352.89  355.67   98333333.0\n",
      "1990-01-05  355.67  355.67  351.35  352.20   88072222.0\n",
      "1990-01-08  352.20  354.24  350.54  353.79   77838889.0\n"
     ]
    }
   ],
   "execution_count": 28
  },
  {
   "metadata": {
    "ExecuteTime": {
     "end_time": "2024-09-12T11:53:15.220886Z",
     "start_time": "2024-09-12T11:53:15.197256Z"
    }
   },
   "cell_type": "code",
   "source": [
    "xauusd_close=xauusd[[\"Close\"]].rename(columns={\"Close\":\"Gold_close\"})\n",
    "xagusd_close=xagusd[[\"Close\"]].rename(columns={\"Close\":\"Silver_close\"})\n",
    "spx_close=spx[[\"Close\"]].rename(columns={\"Close\":\"Spx_close\"})\n",
    "ndq_close=ndq[[\"Close\"]].rename(columns={\"Close\":\"Nasdaq_close\"})\n",
    "\n",
    "merged_close_df= pd.concat([xauusd_close,xagusd_close,ndq_close,spx_close],axis=1,join=\"outer\")\n",
    "\n",
    "print(merged_close_df.head())"
   ],
   "id": "7aa8559a9fde5b5c",
   "outputs": [
    {
     "name": "stdout",
     "output_type": "stream",
     "text": [
      "            Gold_close  Silver_close  Nasdaq_close  Spx_close\n",
      "Date                                                         \n",
      "1990-01-02       402.1          5.25         459.3     359.69\n",
      "1990-01-03       396.4          5.22         460.9     358.76\n",
      "1990-01-04       400.8          5.33         459.4     355.67\n",
      "1990-01-05       408.5          5.38         458.2     352.20\n",
      "1990-01-08       405.0          5.31         458.7     353.79\n"
     ]
    }
   ],
   "execution_count": 29
  },
  {
   "metadata": {
    "ExecuteTime": {
     "end_time": "2024-09-12T11:53:15.411118Z",
     "start_time": "2024-09-12T11:53:15.367781Z"
    }
   },
   "cell_type": "code",
   "source": "merged_close_df.to_csv(\"merged_close_df.csv\")",
   "id": "5b9ef48e148adc37",
   "outputs": [],
   "execution_count": 30
  },
  {
   "metadata": {},
   "cell_type": "markdown",
   "source": "",
   "id": "33360165ce4cbc8c"
  },
  {
   "metadata": {
    "ExecuteTime": {
     "end_time": "2024-09-12T11:53:16.033434Z",
     "start_time": "2024-09-12T11:53:15.985215Z"
    }
   },
   "cell_type": "code",
   "source": [
    "merged_close_interpolated_df= merged_close_df.interpolate(method=\"linear\")\n",
    "print(merged_close_interpolated_df.head())\n",
    "merged_close_interpolated_df.to_csv(\"merged_close_interpolated_df.csv\")"
   ],
   "id": "1e10a7d211b28c51",
   "outputs": [
    {
     "name": "stdout",
     "output_type": "stream",
     "text": [
      "            Gold_close  Silver_close  Nasdaq_close  Spx_close\n",
      "Date                                                         \n",
      "1990-01-02       402.1          5.25         459.3     359.69\n",
      "1990-01-03       396.4          5.22         460.9     358.76\n",
      "1990-01-04       400.8          5.33         459.4     355.67\n",
      "1990-01-05       408.5          5.38         458.2     352.20\n",
      "1990-01-08       405.0          5.31         458.7     353.79\n"
     ]
    }
   ],
   "execution_count": 31
  },
  {
   "metadata": {
    "ExecuteTime": {
     "end_time": "2024-09-12T11:53:16.185600Z",
     "start_time": "2024-09-12T11:53:16.174475Z"
    }
   },
   "cell_type": "code",
   "source": [
    "corr_df=pd.concat([xauusd_close,xagusd_close],axis=1,join=\"outer\")\n",
    "print(corr_df.head())"
   ],
   "id": "6beffea932955ede",
   "outputs": [
    {
     "name": "stdout",
     "output_type": "stream",
     "text": [
      "            Gold_close  Silver_close\n",
      "Date                                \n",
      "1990-01-02       402.1          5.25\n",
      "1990-01-03       396.4          5.22\n",
      "1990-01-04       400.8          5.33\n",
      "1990-01-05       408.5          5.38\n",
      "1990-01-08       405.0          5.31\n"
     ]
    }
   ],
   "execution_count": 32
  },
  {
   "metadata": {
    "ExecuteTime": {
     "end_time": "2024-09-12T12:21:42.265609Z",
     "start_time": "2024-09-12T12:21:42.252809Z"
    }
   },
   "cell_type": "code",
   "source": [
    "latest_date=corr_df.index[-1]\n",
    "one_year_ago=latest_date - timedelta(days=365)\n",
    "last_year=corr_df.loc[one_year_ago:]\n",
    "\n",
    "\n",
    "silver_gold_corr = last_year['Gold_close'].rolling(window=30).corr(last_year['Silver_close'])\n",
    "final_corr_df= pd.DataFrame({'Date':silver_gold_corr.index,'Correlation':silver_gold_corr.values})\n",
    "final_corr_df=final_corr_df.dropna()\n",
    "print(final_corr_df.head())\n",
    "final_corr_df.to_csv(\"final_corr_df.csv\")\n"
   ],
   "id": "25a861c883a90ee3",
   "outputs": [
    {
     "name": "stdout",
     "output_type": "stream",
     "text": [
      "         Date  Correlation\n",
      "29 2023-10-20     0.900324\n",
      "30 2023-10-23     0.886500\n",
      "31 2023-10-24     0.877313\n",
      "32 2023-10-25     0.863122\n",
      "33 2023-10-26     0.845135\n"
     ]
    }
   ],
   "execution_count": 36
  }
 ],
 "metadata": {
  "kernelspec": {
   "display_name": "Python 3",
   "language": "python",
   "name": "python3"
  },
  "language_info": {
   "codemirror_mode": {
    "name": "ipython",
    "version": 2
   },
   "file_extension": ".py",
   "mimetype": "text/x-python",
   "name": "python",
   "nbconvert_exporter": "python",
   "pygments_lexer": "ipython2",
   "version": "2.7.6"
  }
 },
 "nbformat": 4,
 "nbformat_minor": 5
}
